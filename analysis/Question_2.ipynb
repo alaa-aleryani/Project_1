{
 "cells": [
  {
   "cell_type": "markdown",
   "id": "2c6d17bd",
   "metadata": {},
   "source": [
    "# Import Dependencies "
   ]
  },
  {
   "cell_type": "code",
   "execution_count": 1,
   "id": "d832b076",
   "metadata": {},
   "outputs": [],
   "source": [
    "from scipy.stats import linregress\n",
    "import matplotlib.pyplot as plt\n",
    "from scipy import stats\n",
    "import pandas as pd\n",
    "import numpy as np"
   ]
  },
  {
   "cell_type": "markdown",
   "id": "57d19464",
   "metadata": {},
   "source": [
    "## Load the Data"
   ]
  },
  {
   "cell_type": "code",
   "execution_count": 2,
   "id": "cc477f1d",
   "metadata": {},
   "outputs": [
    {
     "name": "stdout",
     "output_type": "stream",
     "text": [
      "817\n"
     ]
    },
    {
     "data": {
      "text/html": [
       "<div>\n",
       "<style scoped>\n",
       "    .dataframe tbody tr th:only-of-type {\n",
       "        vertical-align: middle;\n",
       "    }\n",
       "\n",
       "    .dataframe tbody tr th {\n",
       "        vertical-align: top;\n",
       "    }\n",
       "\n",
       "    .dataframe thead th {\n",
       "        text-align: right;\n",
       "    }\n",
       "</style>\n",
       "<table border=\"1\" class=\"dataframe\">\n",
       "  <thead>\n",
       "    <tr style=\"text-align: right;\">\n",
       "      <th></th>\n",
       "      <th>track_name</th>\n",
       "      <th>artist(s)_name</th>\n",
       "      <th>artist_count</th>\n",
       "      <th>released_year</th>\n",
       "      <th>released_month</th>\n",
       "      <th>released_day</th>\n",
       "      <th>in_spotify_playlists</th>\n",
       "      <th>in_spotify_charts</th>\n",
       "      <th>streams</th>\n",
       "      <th>in_apple_playlists</th>\n",
       "      <th>...</th>\n",
       "      <th>mode</th>\n",
       "      <th>danceability_%</th>\n",
       "      <th>valence_%</th>\n",
       "      <th>energy_%</th>\n",
       "      <th>acousticness_%</th>\n",
       "      <th>instrumentalness_%</th>\n",
       "      <th>liveness_%</th>\n",
       "      <th>speechiness_%</th>\n",
       "      <th>Deezer Album ID</th>\n",
       "      <th>Deezer Genre</th>\n",
       "    </tr>\n",
       "  </thead>\n",
       "  <tbody>\n",
       "    <tr>\n",
       "      <th>0</th>\n",
       "      <td>Seven (feat. Latto) (Explicit Ver.)</td>\n",
       "      <td>Latto, Jung Kook</td>\n",
       "      <td>2</td>\n",
       "      <td>2023</td>\n",
       "      <td>7</td>\n",
       "      <td>14</td>\n",
       "      <td>553</td>\n",
       "      <td>147</td>\n",
       "      <td>141381703</td>\n",
       "      <td>43</td>\n",
       "      <td>...</td>\n",
       "      <td>Major</td>\n",
       "      <td>80</td>\n",
       "      <td>89</td>\n",
       "      <td>83</td>\n",
       "      <td>31</td>\n",
       "      <td>0</td>\n",
       "      <td>8</td>\n",
       "      <td>4</td>\n",
       "      <td>463574485</td>\n",
       "      <td>Asian Music</td>\n",
       "    </tr>\n",
       "    <tr>\n",
       "      <th>1</th>\n",
       "      <td>LALA</td>\n",
       "      <td>Myke Towers</td>\n",
       "      <td>1</td>\n",
       "      <td>2023</td>\n",
       "      <td>3</td>\n",
       "      <td>23</td>\n",
       "      <td>1474</td>\n",
       "      <td>48</td>\n",
       "      <td>133716286</td>\n",
       "      <td>48</td>\n",
       "      <td>...</td>\n",
       "      <td>Major</td>\n",
       "      <td>71</td>\n",
       "      <td>61</td>\n",
       "      <td>74</td>\n",
       "      <td>7</td>\n",
       "      <td>0</td>\n",
       "      <td>10</td>\n",
       "      <td>4</td>\n",
       "      <td>410083687</td>\n",
       "      <td>Rap/Hip Hop</td>\n",
       "    </tr>\n",
       "    <tr>\n",
       "      <th>2</th>\n",
       "      <td>vampire</td>\n",
       "      <td>Olivia Rodrigo</td>\n",
       "      <td>1</td>\n",
       "      <td>2023</td>\n",
       "      <td>6</td>\n",
       "      <td>30</td>\n",
       "      <td>1397</td>\n",
       "      <td>113</td>\n",
       "      <td>140003974</td>\n",
       "      <td>94</td>\n",
       "      <td>...</td>\n",
       "      <td>Major</td>\n",
       "      <td>51</td>\n",
       "      <td>32</td>\n",
       "      <td>53</td>\n",
       "      <td>17</td>\n",
       "      <td>0</td>\n",
       "      <td>31</td>\n",
       "      <td>6</td>\n",
       "      <td>484372295</td>\n",
       "      <td>Pop</td>\n",
       "    </tr>\n",
       "    <tr>\n",
       "      <th>3</th>\n",
       "      <td>Cruel Summer</td>\n",
       "      <td>Taylor Swift</td>\n",
       "      <td>1</td>\n",
       "      <td>2019</td>\n",
       "      <td>8</td>\n",
       "      <td>23</td>\n",
       "      <td>7858</td>\n",
       "      <td>100</td>\n",
       "      <td>800840817</td>\n",
       "      <td>116</td>\n",
       "      <td>...</td>\n",
       "      <td>Major</td>\n",
       "      <td>55</td>\n",
       "      <td>58</td>\n",
       "      <td>72</td>\n",
       "      <td>11</td>\n",
       "      <td>0</td>\n",
       "      <td>11</td>\n",
       "      <td>15</td>\n",
       "      <td>108447472</td>\n",
       "      <td>Pop</td>\n",
       "    </tr>\n",
       "    <tr>\n",
       "      <th>4</th>\n",
       "      <td>WHERE SHE GOES</td>\n",
       "      <td>Bad Bunny</td>\n",
       "      <td>1</td>\n",
       "      <td>2023</td>\n",
       "      <td>5</td>\n",
       "      <td>18</td>\n",
       "      <td>3133</td>\n",
       "      <td>50</td>\n",
       "      <td>303236322</td>\n",
       "      <td>84</td>\n",
       "      <td>...</td>\n",
       "      <td>Minor</td>\n",
       "      <td>65</td>\n",
       "      <td>23</td>\n",
       "      <td>80</td>\n",
       "      <td>14</td>\n",
       "      <td>63</td>\n",
       "      <td>11</td>\n",
       "      <td>6</td>\n",
       "      <td>442984025</td>\n",
       "      <td>Latin Music</td>\n",
       "    </tr>\n",
       "  </tbody>\n",
       "</table>\n",
       "<p>5 rows × 26 columns</p>\n",
       "</div>"
      ],
      "text/plain": [
       "                            track_name    artist(s)_name  artist_count  \\\n",
       "0  Seven (feat. Latto) (Explicit Ver.)  Latto, Jung Kook             2   \n",
       "1                                 LALA       Myke Towers             1   \n",
       "2                              vampire    Olivia Rodrigo             1   \n",
       "3                         Cruel Summer      Taylor Swift             1   \n",
       "4                       WHERE SHE GOES         Bad Bunny             1   \n",
       "\n",
       "   released_year  released_month  released_day  in_spotify_playlists  \\\n",
       "0           2023               7            14                   553   \n",
       "1           2023               3            23                  1474   \n",
       "2           2023               6            30                  1397   \n",
       "3           2019               8            23                  7858   \n",
       "4           2023               5            18                  3133   \n",
       "\n",
       "   in_spotify_charts    streams  in_apple_playlists  ...   mode  \\\n",
       "0                147  141381703                  43  ...  Major   \n",
       "1                 48  133716286                  48  ...  Major   \n",
       "2                113  140003974                  94  ...  Major   \n",
       "3                100  800840817                 116  ...  Major   \n",
       "4                 50  303236322                  84  ...  Minor   \n",
       "\n",
       "  danceability_%  valence_% energy_%  acousticness_% instrumentalness_%  \\\n",
       "0             80         89       83              31                  0   \n",
       "1             71         61       74               7                  0   \n",
       "2             51         32       53              17                  0   \n",
       "3             55         58       72              11                  0   \n",
       "4             65         23       80              14                 63   \n",
       "\n",
       "  liveness_%  speechiness_%  Deezer Album ID  Deezer Genre  \n",
       "0          8              4        463574485   Asian Music  \n",
       "1         10              4        410083687   Rap/Hip Hop  \n",
       "2         31              6        484372295           Pop  \n",
       "3         11             15        108447472           Pop  \n",
       "4         11              6        442984025   Latin Music  \n",
       "\n",
       "[5 rows x 26 columns]"
      ]
     },
     "execution_count": 2,
     "metadata": {},
     "output_type": "execute_result"
    }
   ],
   "source": [
    "# read the saved data:\n",
    "music_df = pd.read_csv(\"../Resources/all_data_genre.csv\", encoding = \"Latin-1\")\n",
    "print(len(music_df))\n",
    "music_df.head()"
   ]
  },
  {
   "cell_type": "markdown",
   "id": "7a6507f3",
   "metadata": {},
   "source": [
    "## Remove Duplicated Rows and Unwanted Columns"
   ]
  },
  {
   "cell_type": "code",
   "execution_count": 3,
   "id": "79159417",
   "metadata": {},
   "outputs": [
    {
     "data": {
      "text/plain": [
       "813"
      ]
     },
     "execution_count": 3,
     "metadata": {},
     "output_type": "execute_result"
    }
   ],
   "source": [
    "# Using Pandas remove duplicated Rows\n",
    "# Make sure to drop duplicated rows based on the specified creteria \n",
    "# not just based on track_name because different songs could have the same name!\n",
    "unduplicated_music_df = music_df.drop_duplicates(subset=[\"track_name\", \"artist(s)_name\",\n",
    "                                                         \"released_year\", \"released_month\", \n",
    "                                                         \"Deezer Album ID\"], keep=False,\\\n",
    "                                                         inplace=False)\n",
    "len(unduplicated_music_df)"
   ]
  },
  {
   "cell_type": "code",
   "execution_count": 4,
   "id": "0bbe96eb",
   "metadata": {},
   "outputs": [
    {
     "data": {
      "text/plain": [
       "track_name              813\n",
       "artist(s)_name          813\n",
       "artist_count            813\n",
       "released_year           813\n",
       "released_month          813\n",
       "in_spotify_playlists    813\n",
       "streams                 813\n",
       "in_apple_playlists      813\n",
       "in_deezer_playlists     813\n",
       "Deezer Genre            695\n",
       "dtype: int64"
      ]
     },
     "execution_count": 4,
     "metadata": {},
     "output_type": "execute_result"
    }
   ],
   "source": [
    "# Remove Unwanted Columns:\n",
    "final_music_df = unduplicated_music_df.drop(columns=[\"in_shazam_charts\", \"released_day\",\n",
    "                                                      \"bpm\",\"key\",\"mode\", \"danceability_%\", \n",
    "                                                      \"valence_%\", \"energy_%\", \"acousticness_%\",\n",
    "                                                      \"instrumentalness_%\", \"liveness_%\",\n",
    "                                                      \"speechiness_%\", \"Deezer Album ID\",\n",
    "                                                      \"in_spotify_charts\", \"in_apple_charts\",\n",
    "                                                      \"in_deezer_charts\"])\n",
    "# final_music_df.columns\n",
    "final_music_df.count()"
   ]
  },
  {
   "cell_type": "markdown",
   "id": "749bc0dd",
   "metadata": {},
   "source": [
    "## Rename Columns Then Remove Empty Cells"
   ]
  },
  {
   "cell_type": "code",
   "execution_count": 5,
   "id": "90ab157b",
   "metadata": {},
   "outputs": [
    {
     "name": "stdout",
     "output_type": "stream",
     "text": [
      "695\n"
     ]
    },
    {
     "data": {
      "text/html": [
       "<div>\n",
       "<style scoped>\n",
       "    .dataframe tbody tr th:only-of-type {\n",
       "        vertical-align: middle;\n",
       "    }\n",
       "\n",
       "    .dataframe tbody tr th {\n",
       "        vertical-align: top;\n",
       "    }\n",
       "\n",
       "    .dataframe thead th {\n",
       "        text-align: right;\n",
       "    }\n",
       "</style>\n",
       "<table border=\"1\" class=\"dataframe\">\n",
       "  <thead>\n",
       "    <tr style=\"text-align: right;\">\n",
       "      <th></th>\n",
       "      <th>Track Name</th>\n",
       "      <th>Artist(s) Name</th>\n",
       "      <th>Artist Count</th>\n",
       "      <th>Released Year</th>\n",
       "      <th>Released Month</th>\n",
       "      <th>In Spotify Playlists</th>\n",
       "      <th>Spotify Streams</th>\n",
       "      <th>In Apple Playlists</th>\n",
       "      <th>In Deezer Playlists</th>\n",
       "      <th>Deezer Genre</th>\n",
       "    </tr>\n",
       "  </thead>\n",
       "  <tbody>\n",
       "    <tr>\n",
       "      <th>0</th>\n",
       "      <td>Seven (feat. Latto) (Explicit Ver.)</td>\n",
       "      <td>Latto, Jung Kook</td>\n",
       "      <td>2</td>\n",
       "      <td>2023</td>\n",
       "      <td>7</td>\n",
       "      <td>553</td>\n",
       "      <td>141381703</td>\n",
       "      <td>43</td>\n",
       "      <td>45</td>\n",
       "      <td>Asian Music</td>\n",
       "    </tr>\n",
       "    <tr>\n",
       "      <th>1</th>\n",
       "      <td>LALA</td>\n",
       "      <td>Myke Towers</td>\n",
       "      <td>1</td>\n",
       "      <td>2023</td>\n",
       "      <td>3</td>\n",
       "      <td>1474</td>\n",
       "      <td>133716286</td>\n",
       "      <td>48</td>\n",
       "      <td>58</td>\n",
       "      <td>Rap/Hip Hop</td>\n",
       "    </tr>\n",
       "    <tr>\n",
       "      <th>2</th>\n",
       "      <td>vampire</td>\n",
       "      <td>Olivia Rodrigo</td>\n",
       "      <td>1</td>\n",
       "      <td>2023</td>\n",
       "      <td>6</td>\n",
       "      <td>1397</td>\n",
       "      <td>140003974</td>\n",
       "      <td>94</td>\n",
       "      <td>91</td>\n",
       "      <td>Pop</td>\n",
       "    </tr>\n",
       "  </tbody>\n",
       "</table>\n",
       "</div>"
      ],
      "text/plain": [
       "                            Track Name    Artist(s) Name  Artist Count  \\\n",
       "0  Seven (feat. Latto) (Explicit Ver.)  Latto, Jung Kook             2   \n",
       "1                                 LALA       Myke Towers             1   \n",
       "2                              vampire    Olivia Rodrigo             1   \n",
       "\n",
       "   Released Year  Released Month  In Spotify Playlists Spotify Streams  \\\n",
       "0           2023               7                   553       141381703   \n",
       "1           2023               3                  1474       133716286   \n",
       "2           2023               6                  1397       140003974   \n",
       "\n",
       "   In Apple Playlists In Deezer Playlists Deezer Genre  \n",
       "0                  43                  45  Asian Music  \n",
       "1                  48                  58  Rap/Hip Hop  \n",
       "2                  94                  91          Pop  "
      ]
     },
     "execution_count": 5,
     "metadata": {},
     "output_type": "execute_result"
    }
   ],
   "source": [
    "# First, using pandas Rename the columns\n",
    "final_music_df = final_music_df.rename(columns={\"track_name\": \"Track Name\", \"artist(s)_name\": \"Artist(s) Name\",\n",
    "                                                \"artist_count\": \"Artist Count\",\n",
    "                                                \"released_year\": \"Released Year\", \"released_month\": \"Released Month\", \n",
    "                                                \"in_spotify_playlists\": \"In Spotify Playlists\",\n",
    "                                                \"streams\": \"Spotify Streams\",\n",
    "                                                \"in_apple_playlists\": \"In Apple Playlists\", \n",
    "                                                \"in_deezer_playlists\": \"In Deezer Playlists\",\n",
    "                                                })\n",
    "\n",
    "# Now remove all empty cells - NOTE: All empty cells are in the \"Deezer Genre\" column\n",
    "cleaned_final_music_df = final_music_df.dropna()\n",
    "\n",
    "print(len(cleaned_final_music_df))\n",
    "cleaned_final_music_df.head(3)"
   ]
  },
  {
   "cell_type": "code",
   "execution_count": 6,
   "id": "3b4b36c7",
   "metadata": {},
   "outputs": [
    {
     "data": {
      "text/plain": [
       "694"
      ]
     },
     "execution_count": 6,
     "metadata": {},
     "output_type": "execute_result"
    }
   ],
   "source": [
    "# The Track Name \"\"Love Grows (Where My Rosemary Goes)\"\" has an error in the \n",
    "# \"Spotify Streams\" Column so will remove it using drop by index.\n",
    "\n",
    "# drop by index\n",
    "cleaned_final_music_df = cleaned_final_music_df.drop([478])\n",
    "len(cleaned_final_music_df)"
   ]
  },
  {
   "cell_type": "code",
   "execution_count": 7,
   "id": "b842c1a8",
   "metadata": {},
   "outputs": [
    {
     "name": "stdout",
     "output_type": "stream",
     "text": [
      "Spotify Streams        object\n",
      "In Deezer Playlists    object\n",
      "dtype: object\n",
      "-------------------------------------------\n",
      "Spotify Streams        int64\n",
      "In Deezer Playlists    int32\n",
      "dtype: object\n"
     ]
    }
   ],
   "source": [
    "print(cleaned_final_music_df[[\"Spotify Streams\", \"In Deezer Playlists\"]].dtypes)\n",
    "\n",
    "print(\"-------------------------------------------\")\n",
    "\n",
    "# Convert the values in the \"Spotify Streams\" AND \"In Deezer Playlists\" Columns to integer\n",
    "# First convert the Spotify Streams Column\n",
    "cleaned_final_music_df[\"Spotify Streams\"] = cleaned_final_music_df[\"Spotify Streams\"].astype(\"int64\")\n",
    "\n",
    "# For the \"Deezer Playlist\" column we have to remove the \",\" then convert the string to an interger.\n",
    "cleaned_final_music_df[\"In Deezer Playlists\"] = cleaned_final_music_df[\"In Deezer Playlists\"].str.replace(\",\", \"\")\n",
    "cleaned_final_music_df[\"In Deezer Playlists\"] = cleaned_final_music_df[\"In Deezer Playlists\"].astype(int) \n",
    "\n",
    "print(cleaned_final_music_df[[\"Spotify Streams\", \"In Deezer Playlists\"]].dtypes)"
   ]
  },
  {
   "cell_type": "code",
   "execution_count": 8,
   "id": "511005bf",
   "metadata": {},
   "outputs": [],
   "source": [
    "# export the final cleaned dataframe to a csv file:\n",
    "cleaned_final_music_df.to_csv(\"../Resources/cleaned_song_data.csv\", encoding = \"Latin-1\", index=False, header=True)"
   ]
  },
  {
   "cell_type": "markdown",
   "id": "7e41ee76",
   "metadata": {},
   "source": [
    "# Filter to Solo Singers"
   ]
  },
  {
   "cell_type": "code",
   "execution_count": 9,
   "id": "882eed4c",
   "metadata": {},
   "outputs": [
    {
     "data": {
      "text/html": [
       "<div>\n",
       "<style scoped>\n",
       "    .dataframe tbody tr th:only-of-type {\n",
       "        vertical-align: middle;\n",
       "    }\n",
       "\n",
       "    .dataframe tbody tr th {\n",
       "        vertical-align: top;\n",
       "    }\n",
       "\n",
       "    .dataframe thead th {\n",
       "        text-align: right;\n",
       "    }\n",
       "</style>\n",
       "<table border=\"1\" class=\"dataframe\">\n",
       "  <thead>\n",
       "    <tr style=\"text-align: right;\">\n",
       "      <th></th>\n",
       "      <th>Track Name</th>\n",
       "      <th>Artist(s) Name</th>\n",
       "      <th>Artist Count</th>\n",
       "      <th>Released Year</th>\n",
       "      <th>Released Month</th>\n",
       "      <th>In Spotify Playlists</th>\n",
       "      <th>Spotify Streams</th>\n",
       "      <th>In Apple Playlists</th>\n",
       "      <th>In Deezer Playlists</th>\n",
       "      <th>Deezer Genre</th>\n",
       "    </tr>\n",
       "  </thead>\n",
       "  <tbody>\n",
       "    <tr>\n",
       "      <th>11</th>\n",
       "      <td>Super Shy</td>\n",
       "      <td>NewJeans</td>\n",
       "      <td>1</td>\n",
       "      <td>2023</td>\n",
       "      <td>7</td>\n",
       "      <td>422</td>\n",
       "      <td>58,255,150</td>\n",
       "      <td>37</td>\n",
       "      <td>21</td>\n",
       "      <td>Asian Music</td>\n",
       "    </tr>\n",
       "    <tr>\n",
       "      <th>7</th>\n",
       "      <td>Columbia</td>\n",
       "      <td>Quevedo</td>\n",
       "      <td>1</td>\n",
       "      <td>2023</td>\n",
       "      <td>7</td>\n",
       "      <td>714</td>\n",
       "      <td>58,149,378</td>\n",
       "      <td>25</td>\n",
       "      <td>30</td>\n",
       "      <td>Reggaeton</td>\n",
       "    </tr>\n",
       "    <tr>\n",
       "      <th>58</th>\n",
       "      <td>Enchanted (Taylor's Version)</td>\n",
       "      <td>Taylor Swift</td>\n",
       "      <td>1</td>\n",
       "      <td>2023</td>\n",
       "      <td>7</td>\n",
       "      <td>148</td>\n",
       "      <td>39,578,178</td>\n",
       "      <td>32</td>\n",
       "      <td>8</td>\n",
       "      <td>Country</td>\n",
       "    </tr>\n",
       "  </tbody>\n",
       "</table>\n",
       "</div>"
      ],
      "text/plain": [
       "                      Track Name Artist(s) Name  Artist Count  Released Year  \\\n",
       "11                     Super Shy       NewJeans             1           2023   \n",
       "7                       Columbia        Quevedo             1           2023   \n",
       "58  Enchanted (Taylor's Version)   Taylor Swift             1           2023   \n",
       "\n",
       "    Released Month  In Spotify Playlists Spotify Streams  In Apple Playlists  \\\n",
       "11               7                   422      58,255,150                  37   \n",
       "7                7                   714      58,149,378                  25   \n",
       "58               7                   148      39,578,178                  32   \n",
       "\n",
       "    In Deezer Playlists Deezer Genre  \n",
       "11                   21  Asian Music  \n",
       "7                    30    Reggaeton  \n",
       "58                    8      Country  "
      ]
     },
     "execution_count": 9,
     "metadata": {},
     "output_type": "execute_result"
    }
   ],
   "source": [
    "# First filter the dataframe to music done by solo singers.\n",
    "# Then sort the music in DESCENDING order \n",
    "# so we see the newest songs first!\n",
    "solo_artists_df = cleaned_final_music_df[cleaned_final_music_df[\"Artist Count\"] == 1]\\\n",
    "                   .sort_values(by=[\"Released Year\", \"Released Month\", \"Spotify Streams\"], ascending = False)\n",
    "\n",
    "# To format and make numbers readable,\n",
    "# First make a copy so we don't mess the orginial one:\n",
    "solo_artists_modified = solo_artists_df.copy()\n",
    "solo_artists_modified[\"Spotify Streams\"] = solo_artists_modified[\"Spotify Streams\"].map(\"{:,}\".format)\n",
    "solo_artists_modified.head(3)"
   ]
  },
  {
   "cell_type": "markdown",
   "id": "1133019a",
   "metadata": {},
   "source": [
    "<h1><center>2023 Top Songs in Each Platform</center></h1>"
   ]
  },
  {
   "cell_type": "code",
   "execution_count": 10,
   "id": "17aeaa4e",
   "metadata": {},
   "outputs": [],
   "source": [
    "# Define a function that will highlight the background of a specified column.\n",
    "def highlighting(inp_var, color='RGB(205,193,197)'):\n",
    "    return [f'background-color: {color}' for i in inp_var]"
   ]
  },
  {
   "cell_type": "code",
   "execution_count": 11,
   "id": "6e18f437",
   "metadata": {},
   "outputs": [],
   "source": [
    "# --------------------------------------------------------------------------------------------------------\n",
    "# Sort all values for the columns of interest in DESCENDING order\n",
    "# SPOTIFY ------------------------------------------------------------------------------------------------\n",
    "top_streams_df = solo_artists_df.sort_values(by=\"Spotify Streams\", ascending=False) \n",
    "top_Spotify_playlists = solo_artists_df.sort_values(by=\"In Spotify Playlists\", ascending=False) \n",
    "\n",
    "# APPLE ---------------------------------------------------------------------------------------------------\n",
    "top_Apple_playlists = solo_artists_df.sort_values(by=\"In Apple Playlists\", ascending=False)\n",
    "\n",
    "# DEEZER --------------------------------------------------------------------------------------------------\n",
    "top_Deezer_playlists = solo_artists_df.sort_values(by=\"In Deezer Playlists\", ascending=False) \n",
    "# --------------------------------------------------------------------------------------------------------"
   ]
  },
  {
   "cell_type": "markdown",
   "id": "5e7c27c4",
   "metadata": {},
   "source": [
    "### `Top Songs in Spotify Playlists`"
   ]
  },
  {
   "cell_type": "code",
   "execution_count": 12,
   "id": "59d66a55",
   "metadata": {},
   "outputs": [
    {
     "data": {
      "text/html": [
       "<style type=\"text/css\">\n",
       "#T_88d85_row0_col2, #T_88d85_row1_col2, #T_88d85_row2_col2 {\n",
       "  background-color: RGB(205,193,197);\n",
       "}\n",
       "</style>\n",
       "<table id=\"T_88d85\">\n",
       "  <thead>\n",
       "    <tr>\n",
       "      <th class=\"blank level0\" >&nbsp;</th>\n",
       "      <th id=\"T_88d85_level0_col0\" class=\"col_heading level0 col0\" >Track Name</th>\n",
       "      <th id=\"T_88d85_level0_col1\" class=\"col_heading level0 col1\" >Artist(s) Name</th>\n",
       "      <th id=\"T_88d85_level0_col2\" class=\"col_heading level0 col2\" >In Spotify Playlists</th>\n",
       "      <th id=\"T_88d85_level0_col3\" class=\"col_heading level0 col3\" >Released Year</th>\n",
       "      <th id=\"T_88d85_level0_col4\" class=\"col_heading level0 col4\" >Released Month</th>\n",
       "      <th id=\"T_88d85_level0_col5\" class=\"col_heading level0 col5\" >Deezer Genre</th>\n",
       "    </tr>\n",
       "  </thead>\n",
       "  <tbody>\n",
       "    <tr>\n",
       "      <th id=\"T_88d85_level0_row0\" class=\"row_heading level0 row0\" >525</th>\n",
       "      <td id=\"T_88d85_row0_col0\" class=\"data row0 col0\" >Mr. Brightside</td>\n",
       "      <td id=\"T_88d85_row0_col1\" class=\"data row0 col1\" >The Killers</td>\n",
       "      <td id=\"T_88d85_row0_col2\" class=\"data row0 col2\" >51,979</td>\n",
       "      <td id=\"T_88d85_row0_col3\" class=\"data row0 col3\" >2003</td>\n",
       "      <td id=\"T_88d85_row0_col4\" class=\"data row0 col4\" >9</td>\n",
       "      <td id=\"T_88d85_row0_col5\" class=\"data row0 col5\" >Rock</td>\n",
       "    </tr>\n",
       "    <tr>\n",
       "      <th id=\"T_88d85_level0_row1\" class=\"row_heading level0 row1\" >606</th>\n",
       "      <td id=\"T_88d85_row1_col0\" class=\"data row1 col0\" >Wake Me Up - Radio Edit</td>\n",
       "      <td id=\"T_88d85_row1_col1\" class=\"data row1 col1\" >Avicii</td>\n",
       "      <td id=\"T_88d85_row1_col2\" class=\"data row1 col2\" >50,887</td>\n",
       "      <td id=\"T_88d85_row1_col3\" class=\"data row1 col3\" >2013</td>\n",
       "      <td id=\"T_88d85_row1_col4\" class=\"data row1 col4\" >1</td>\n",
       "      <td id=\"T_88d85_row1_col5\" class=\"data row1 col5\" >Electro</td>\n",
       "    </tr>\n",
       "    <tr>\n",
       "      <th id=\"T_88d85_level0_row2\" class=\"row_heading level0 row2\" >520</th>\n",
       "      <td id=\"T_88d85_row2_col0\" class=\"data row2 col0\" >Smells Like Teen Spirit - Remastered 2021</td>\n",
       "      <td id=\"T_88d85_row2_col1\" class=\"data row2 col1\" >Nirvana</td>\n",
       "      <td id=\"T_88d85_row2_col2\" class=\"data row2 col2\" >49,991</td>\n",
       "      <td id=\"T_88d85_row2_col3\" class=\"data row2 col3\" >1991</td>\n",
       "      <td id=\"T_88d85_row2_col4\" class=\"data row2 col4\" >9</td>\n",
       "      <td id=\"T_88d85_row2_col5\" class=\"data row2 col5\" >Rock</td>\n",
       "    </tr>\n",
       "  </tbody>\n",
       "</table>\n"
      ],
      "text/plain": [
       "<pandas.io.formats.style.Styler at 0x27db8c74250>"
      ]
     },
     "execution_count": 12,
     "metadata": {},
     "output_type": "execute_result"
    }
   ],
   "source": [
    "# Format the Spotify Playlist Column for better readability.\n",
    "top_Spotify_playlists[\"In Spotify Playlists\"] = top_Spotify_playlists[\"In Spotify Playlists\"].map(\"{:,}\".format)\n",
    "\n",
    "top_Spotify_playlists[[\"Track Name\", \"Artist(s) Name\", \"In Spotify Playlists\", \n",
    "                       \"Released Year\", \"Released Month\", \"Deezer Genre\"]].head(3)\\\n",
    "                      .style.apply(highlighting, axis=0, subset=[\"In Spotify Playlists\"])"
   ]
  },
  {
   "cell_type": "markdown",
   "id": "e9e73cb2",
   "metadata": {},
   "source": [
    "### `Top Songs in Apple Playlists`"
   ]
  },
  {
   "cell_type": "code",
   "execution_count": 13,
   "id": "b1e82e2c",
   "metadata": {},
   "outputs": [
    {
     "data": {
      "text/html": [
       "<style type=\"text/css\">\n",
       "#T_77000_row0_col2, #T_77000_row1_col2, #T_77000_row2_col2 {\n",
       "  background-color: RGB(205,193,197);\n",
       "}\n",
       "</style>\n",
       "<table id=\"T_77000\">\n",
       "  <thead>\n",
       "    <tr>\n",
       "      <th class=\"blank level0\" >&nbsp;</th>\n",
       "      <th id=\"T_77000_level0_col0\" class=\"col_heading level0 col0\" >Track Name</th>\n",
       "      <th id=\"T_77000_level0_col1\" class=\"col_heading level0 col1\" >Artist(s) Name</th>\n",
       "      <th id=\"T_77000_level0_col2\" class=\"col_heading level0 col2\" >In Apple Playlists</th>\n",
       "      <th id=\"T_77000_level0_col3\" class=\"col_heading level0 col3\" >Released Year</th>\n",
       "      <th id=\"T_77000_level0_col4\" class=\"col_heading level0 col4\" >Released Month</th>\n",
       "      <th id=\"T_77000_level0_col5\" class=\"col_heading level0 col5\" >Deezer Genre</th>\n",
       "    </tr>\n",
       "  </thead>\n",
       "  <tbody>\n",
       "    <tr>\n",
       "      <th id=\"T_77000_level0_row0\" class=\"row_heading level0 row0\" >352</th>\n",
       "      <td id=\"T_77000_row0_col0\" class=\"data row0 col0\" >Don't Start Now</td>\n",
       "      <td id=\"T_77000_row0_col1\" class=\"data row0 col1\" >Dua Lipa</td>\n",
       "      <td id=\"T_77000_row0_col2\" class=\"data row0 col2\" >532</td>\n",
       "      <td id=\"T_77000_row0_col3\" class=\"data row0 col3\" >2019</td>\n",
       "      <td id=\"T_77000_row0_col4\" class=\"data row0 col4\" >10</td>\n",
       "      <td id=\"T_77000_row0_col5\" class=\"data row0 col5\" >Pop</td>\n",
       "    </tr>\n",
       "    <tr>\n",
       "      <th id=\"T_77000_level0_row1\" class=\"row_heading level0 row1\" >576</th>\n",
       "      <td id=\"T_77000_row1_col0\" class=\"data row1 col0\" >Thinking Out Loud</td>\n",
       "      <td id=\"T_77000_row1_col1\" class=\"data row1 col1\" >Ed Sheeran</td>\n",
       "      <td id=\"T_77000_row1_col2\" class=\"data row1 col2\" >363</td>\n",
       "      <td id=\"T_77000_row1_col3\" class=\"data row1 col3\" >2014</td>\n",
       "      <td id=\"T_77000_row1_col4\" class=\"data row1 col4\" >1</td>\n",
       "      <td id=\"T_77000_row1_col5\" class=\"data row1 col5\" >Pop</td>\n",
       "    </tr>\n",
       "    <tr>\n",
       "      <th id=\"T_77000_level0_row2\" class=\"row_heading level0 row2\" >149</th>\n",
       "      <td id=\"T_77000_row2_col0\" class=\"data row2 col0\" >Shake It Off</td>\n",
       "      <td id=\"T_77000_row2_col1\" class=\"data row2 col1\" >Taylor Swift</td>\n",
       "      <td id=\"T_77000_row2_col2\" class=\"data row2 col2\" >328</td>\n",
       "      <td id=\"T_77000_row2_col3\" class=\"data row2 col3\" >2014</td>\n",
       "      <td id=\"T_77000_row2_col4\" class=\"data row2 col4\" >1</td>\n",
       "      <td id=\"T_77000_row2_col5\" class=\"data row2 col5\" >Singer & Songwriter</td>\n",
       "    </tr>\n",
       "  </tbody>\n",
       "</table>\n"
      ],
      "text/plain": [
       "<pandas.io.formats.style.Styler at 0x27db8c4e0d0>"
      ]
     },
     "execution_count": 13,
     "metadata": {},
     "output_type": "execute_result"
    }
   ],
   "source": [
    "top_Apple_playlists[[\"Track Name\", \"Artist(s) Name\", \"In Apple Playlists\", \n",
    "                       \"Released Year\", \"Released Month\", \"Deezer Genre\"]].head(3)\\\n",
    "                      .style.apply(highlighting, axis=0, subset=[\"In Apple Playlists\"])"
   ]
  },
  {
   "cell_type": "markdown",
   "id": "7463c1d1",
   "metadata": {},
   "source": [
    "### `Top Songs in Deezer Playlists`"
   ]
  },
  {
   "cell_type": "code",
   "execution_count": 14,
   "id": "72110aee",
   "metadata": {},
   "outputs": [
    {
     "data": {
      "text/html": [
       "<style type=\"text/css\">\n",
       "#T_1baa9_row0_col2, #T_1baa9_row1_col2, #T_1baa9_row2_col2 {\n",
       "  background-color: RGB(205,193,197);\n",
       "}\n",
       "</style>\n",
       "<table id=\"T_1baa9\">\n",
       "  <thead>\n",
       "    <tr>\n",
       "      <th class=\"blank level0\" >&nbsp;</th>\n",
       "      <th id=\"T_1baa9_level0_col0\" class=\"col_heading level0 col0\" >Track Name</th>\n",
       "      <th id=\"T_1baa9_level0_col1\" class=\"col_heading level0 col1\" >Artist(s) Name</th>\n",
       "      <th id=\"T_1baa9_level0_col2\" class=\"col_heading level0 col2\" >In Deezer Playlists</th>\n",
       "      <th id=\"T_1baa9_level0_col3\" class=\"col_heading level0 col3\" >Released Year</th>\n",
       "      <th id=\"T_1baa9_level0_col4\" class=\"col_heading level0 col4\" >Released Month</th>\n",
       "      <th id=\"T_1baa9_level0_col5\" class=\"col_heading level0 col5\" >Deezer Genre</th>\n",
       "    </tr>\n",
       "  </thead>\n",
       "  <tbody>\n",
       "    <tr>\n",
       "      <th id=\"T_1baa9_level0_row0\" class=\"row_heading level0 row0\" >520</th>\n",
       "      <td id=\"T_1baa9_row0_col0\" class=\"data row0 col0\" >Smells Like Teen Spirit - Remastered 2021</td>\n",
       "      <td id=\"T_1baa9_row0_col1\" class=\"data row0 col1\" >Nirvana</td>\n",
       "      <td id=\"T_1baa9_row0_col2\" class=\"data row0 col2\" >12,367</td>\n",
       "      <td id=\"T_1baa9_row0_col3\" class=\"data row0 col3\" >1991</td>\n",
       "      <td id=\"T_1baa9_row0_col4\" class=\"data row0 col4\" >9</td>\n",
       "      <td id=\"T_1baa9_row0_col5\" class=\"data row0 col5\" >Rock</td>\n",
       "    </tr>\n",
       "    <tr>\n",
       "      <th id=\"T_1baa9_level0_row1\" class=\"row_heading level0 row1\" >777</th>\n",
       "      <td id=\"T_1baa9_row1_col0\" class=\"data row1 col0\" >The Scientist</td>\n",
       "      <td id=\"T_1baa9_row1_col1\" class=\"data row1 col1\" >Coldplay</td>\n",
       "      <td id=\"T_1baa9_row1_col2\" class=\"data row1 col2\" >7,827</td>\n",
       "      <td id=\"T_1baa9_row1_col3\" class=\"data row1 col3\" >2002</td>\n",
       "      <td id=\"T_1baa9_row1_col4\" class=\"data row1 col4\" >8</td>\n",
       "      <td id=\"T_1baa9_row1_col5\" class=\"data row1 col5\" >Rock</td>\n",
       "    </tr>\n",
       "    <tr>\n",
       "      <th id=\"T_1baa9_level0_row2\" class=\"row_heading level0 row2\" >288</th>\n",
       "      <td id=\"T_1baa9_row2_col0\" class=\"data row2 col0\" >Numb</td>\n",
       "      <td id=\"T_1baa9_row2_col1\" class=\"data row2 col1\" >Linkin Park</td>\n",
       "      <td id=\"T_1baa9_row2_col2\" class=\"data row2 col2\" >7,341</td>\n",
       "      <td id=\"T_1baa9_row2_col3\" class=\"data row2 col3\" >2003</td>\n",
       "      <td id=\"T_1baa9_row2_col4\" class=\"data row2 col4\" >3</td>\n",
       "      <td id=\"T_1baa9_row2_col5\" class=\"data row2 col5\" >Dance</td>\n",
       "    </tr>\n",
       "  </tbody>\n",
       "</table>\n"
      ],
      "text/plain": [
       "<pandas.io.formats.style.Styler at 0x27db8e20850>"
      ]
     },
     "execution_count": 14,
     "metadata": {},
     "output_type": "execute_result"
    }
   ],
   "source": [
    "# Format the Deezer Playlist Column for better readability.\n",
    "top_Deezer_playlists[\"In Deezer Playlists\"] = top_Deezer_playlists[\"In Deezer Playlists\"].map(\"{:,}\".format)\n",
    "\n",
    "top_Deezer_playlists[[\"Track Name\", \"Artist(s) Name\", \"In Deezer Playlists\", \n",
    "                       \"Released Year\", \"Released Month\", \"Deezer Genre\"]].head(3)\\\n",
    "                      .style.apply(highlighting, axis=0, subset=[\"In Deezer Playlists\"])"
   ]
  },
  {
   "cell_type": "markdown",
   "id": "539c1b77",
   "metadata": {},
   "source": [
    "<h1><center>---------- TOP 3 SONGS Based on Spotify Streams ---------- </center></h1>"
   ]
  },
  {
   "cell_type": "code",
   "execution_count": 15,
   "id": "1b284bef",
   "metadata": {},
   "outputs": [
    {
     "data": {
      "text/html": [
       "<style type=\"text/css\">\n",
       "#T_e84fd_row0_col2, #T_e84fd_row0_col5, #T_e84fd_row1_col2, #T_e84fd_row1_col5, #T_e84fd_row2_col2, #T_e84fd_row2_col5 {\n",
       "  background-color: RGB(205,193,197);\n",
       "}\n",
       "</style>\n",
       "<table id=\"T_e84fd\">\n",
       "  <thead>\n",
       "    <tr>\n",
       "      <th class=\"blank level0\" >&nbsp;</th>\n",
       "      <th id=\"T_e84fd_level0_col0\" class=\"col_heading level0 col0\" >Track Name</th>\n",
       "      <th id=\"T_e84fd_level0_col1\" class=\"col_heading level0 col1\" >Artist(s) Name</th>\n",
       "      <th id=\"T_e84fd_level0_col2\" class=\"col_heading level0 col2\" >Spotify Streams</th>\n",
       "      <th id=\"T_e84fd_level0_col3\" class=\"col_heading level0 col3\" >Released Year</th>\n",
       "      <th id=\"T_e84fd_level0_col4\" class=\"col_heading level0 col4\" >Released Month</th>\n",
       "      <th id=\"T_e84fd_level0_col5\" class=\"col_heading level0 col5\" >Deezer Genre</th>\n",
       "    </tr>\n",
       "  </thead>\n",
       "  <tbody>\n",
       "    <tr>\n",
       "      <th id=\"T_e84fd_level0_row0\" class=\"row_heading level0 row0\" >151</th>\n",
       "      <td id=\"T_e84fd_row0_col0\" class=\"data row0 col0\" >Shape of You</td>\n",
       "      <td id=\"T_e84fd_row0_col1\" class=\"data row0 col1\" >Ed Sheeran</td>\n",
       "      <td id=\"T_e84fd_row0_col2\" class=\"data row0 col2\" >3,562,543,890</td>\n",
       "      <td id=\"T_e84fd_row0_col3\" class=\"data row0 col3\" >2017</td>\n",
       "      <td id=\"T_e84fd_row0_col4\" class=\"data row0 col4\" >1</td>\n",
       "      <td id=\"T_e84fd_row0_col5\" class=\"data row0 col5\" >Pop</td>\n",
       "    </tr>\n",
       "    <tr>\n",
       "      <th id=\"T_e84fd_level0_row1\" class=\"row_heading level0 row1\" >122</th>\n",
       "      <td id=\"T_e84fd_row1_col0\" class=\"data row1 col0\" >Believer</td>\n",
       "      <td id=\"T_e84fd_row1_col1\" class=\"data row1 col1\" >Imagine Dragons</td>\n",
       "      <td id=\"T_e84fd_row1_col2\" class=\"data row1 col2\" >2,594,040,133</td>\n",
       "      <td id=\"T_e84fd_row1_col3\" class=\"data row1 col3\" >2017</td>\n",
       "      <td id=\"T_e84fd_row1_col4\" class=\"data row1 col4\" >1</td>\n",
       "      <td id=\"T_e84fd_row1_col5\" class=\"data row1 col5\" >Alternative</td>\n",
       "    </tr>\n",
       "    <tr>\n",
       "      <th id=\"T_e84fd_level0_row2\" class=\"row_heading level0 row2\" >120</th>\n",
       "      <td id=\"T_e84fd_row2_col0\" class=\"data row2 col0\" >Perfect</td>\n",
       "      <td id=\"T_e84fd_row2_col1\" class=\"data row2 col1\" >Ed Sheeran</td>\n",
       "      <td id=\"T_e84fd_row2_col2\" class=\"data row2 col2\" >2,559,529,074</td>\n",
       "      <td id=\"T_e84fd_row2_col3\" class=\"data row2 col3\" >2017</td>\n",
       "      <td id=\"T_e84fd_row2_col4\" class=\"data row2 col4\" >1</td>\n",
       "      <td id=\"T_e84fd_row2_col5\" class=\"data row2 col5\" >Pop</td>\n",
       "    </tr>\n",
       "  </tbody>\n",
       "</table>\n"
      ],
      "text/plain": [
       "<pandas.io.formats.style.Styler at 0x27db8e35650>"
      ]
     },
     "execution_count": 15,
     "metadata": {},
     "output_type": "execute_result"
    }
   ],
   "source": [
    "# Format the Deezer Playlist Column for better readability.\n",
    "top_streams_df[\"Spotify Streams\"] = top_streams_df[\"Spotify Streams\"].map(\"{:,}\".format)\n",
    "\n",
    "top_streams_df[[\"Track Name\", \"Artist(s) Name\", \"Spotify Streams\", \n",
    "                       \"Released Year\", \"Released Month\", \"Deezer Genre\"]].head(3)\\\n",
    "                      .style.apply(highlighting, axis=0, subset=[\"Spotify Streams\", \"Deezer Genre\"])"
   ]
  },
  {
   "cell_type": "markdown",
   "id": "93317b49",
   "metadata": {},
   "source": [
    "# 2023 Top Artists"
   ]
  },
  {
   "cell_type": "code",
   "execution_count": 16,
   "id": "6edff395",
   "metadata": {},
   "outputs": [
    {
     "name": "stdout",
     "output_type": "stream",
     "text": [
      "There are 33 artists names\n"
     ]
    }
   ],
   "source": [
    "# NOTE: this is the work Count for each solo artist \n",
    "# who has more than 2 top songs in 2023.\n",
    "\n",
    "artists_work_count = solo_artists_df[\"Artist(s) Name\"].value_counts()\n",
    "\n",
    "# Initialize empty lists\n",
    "artist_names = []\n",
    "work_count = []\n",
    "\n",
    "for category, count in artists_work_count.items():\n",
    "    if count >= 3:\n",
    "        artist_names.append(category)\n",
    "        work_count.append(count)\n",
    "        \n",
    "print(f\"There are {len(artist_names)} artists names\")"
   ]
  },
  {
   "cell_type": "code",
   "execution_count": 17,
   "id": "869754e8",
   "metadata": {},
   "outputs": [
    {
     "data": {
      "image/png": "[encoded data removed]",
      "text/plain": [
       "<Figure size 800x300 with 1 Axes>"
      ]
     },
     "metadata": {},
     "output_type": "display_data"
    }
   ],
   "source": [
    "#                     ********************          PLOTTING          ********************   \n",
    "\n",
    "# Resize the plot to make it fit in the screen\n",
    "plt.figure(figsize=(8,3))\n",
    "\n",
    "plt.bar(artist_names, work_count, color=\"lightblue\", align=\"center\")\n",
    "\n",
    "# Create the ticks for our bar chart's x axis\n",
    "tick_locations = [value for value in artist_names]         \n",
    "plt.xticks(tick_locations, artist_names, rotation=\"vertical\")\n",
    "\n",
    "# Set x and y limits\n",
    "plt.xlim(-0.75, len(artist_names)-0.25)\n",
    "plt.ylim(0, max(work_count)+5)\n",
    "\n",
    "# Give our chart some labels and a tile\n",
    "plt.title(\"Number of Top Songs For Each Artist\")\n",
    "plt.xlabel(\"Artist Name\")\n",
    "plt.ylabel(\"Number of Songs\")\n",
    "\n",
    "# Save the chart.\n",
    "# plt.savefig(\"../output/Num_Top_Songs_For_Each_Artist.png\")\n",
    "\n",
    "# Display\n",
    "plt.show()"
   ]
  },
  {
   "cell_type": "markdown",
   "id": "37e382ae",
   "metadata": {},
   "source": [
    "### Most popular songs were released in which month?\n"
   ]
  },
  {
   "cell_type": "code",
   "execution_count": 18,
   "id": "be05fdba",
   "metadata": {},
   "outputs": [
    {
     "name": "stdout",
     "output_type": "stream",
     "text": [
      "{1: 75, 2: 26, 3: 33, 4: 35, 5: 61, 6: 33, 7: 31, 8: 20, 9: 25, 10: 43, 11: 30, 12: 39}\n",
      "{'Jan.': 75, 'Feb.': 26, 'Mar.': 33, 'April': 35, 'May': 61, 'June': 33, 'July': 31, 'Aug.': 20, 'Sept.': 25, 'Oct.': 43, 'Nov.': 30, 'Dec.': 39}\n",
      "['Jan.', 'Feb.', 'Mar.', 'April', 'May', 'June', 'July', 'Aug.', 'Sept.', 'Oct.', 'Nov.', 'Dec.']\n",
      "[75, 26, 33, 35, 61, 33, 31, 20, 25, 43, 30, 39]\n"
     ]
    }
   ],
   "source": [
    "# Count the months a song was released in.\n",
    "released_month_count = solo_artists_df[\"Released Month\"].value_counts()\n",
    "# -----------------------------\n",
    "# Initialize empty lists\n",
    "month_names = []\n",
    "month_count = []\n",
    "\n",
    "for category, count in released_month_count.items():\n",
    "    month_names.append(category)\n",
    "    month_count.append(count)\n",
    "    \n",
    "# -----------------------------    \n",
    "# create a dictionary so we order the keys\n",
    "dic = {}\n",
    "for key in month_names:\n",
    "    for value in month_count:\n",
    "        dic[key] = value\n",
    "        month_count.remove(value)\n",
    "        break\n",
    "        \n",
    "# -------------------------------\n",
    "# Sort the keys of the dictionary which are the months\n",
    "myKeys = list(dic.keys())\n",
    "myKeys.sort()\n",
    "sorted_dict = {i: dic[i] for i in myKeys}\n",
    " \n",
    "print(sorted_dict)   \n",
    "\n",
    "# -------------------------------\n",
    "# Now Rename the keys - The months.\n",
    "month_list = [\"Jan.\", \"Feb.\", \"Mar.\", \"April\", \"May\", \"June\",\\\n",
    "              \"July\", \"Aug.\", \"Sept.\", \"Oct.\", \"Nov.\", \"Dec.\"]\n",
    "x = 0\n",
    "while x < len(month_list):\n",
    "     sorted_dict[month_list[x]]= sorted_dict.pop(x+1)\n",
    "     x = x + 1\n",
    "\n",
    "print(sorted_dict)  \n",
    "\n",
    "# -------------------------------\n",
    "# Now I want to convert the dictionary into 2 lists for plotting.\n",
    "month_names = list(sorted_dict.keys())\n",
    "month_count = list(sorted_dict.values())\n",
    "\n",
    "print(month_names)\n",
    "print(month_count)"
   ]
  },
  {
   "cell_type": "code",
   "execution_count": 19,
   "id": "1afc27cb",
   "metadata": {},
   "outputs": [
    {
     "data": {
      "image/png": "[encoded data removed]",
      "text/plain": [
       "<Figure size 600x300 with 1 Axes>"
      ]
     },
     "metadata": {},
     "output_type": "display_data"
    }
   ],
   "source": [
    "#                     ********************          PLOTTING          ********************   \n",
    "\n",
    "# Resize the plot to make it fit in the screen\n",
    "plt.figure(figsize=(6,3))\n",
    "\n",
    "# Create a bar chart\n",
    "plt.bar(month_names, month_count, color = \"lightblue\", align=\"center\")\n",
    "\n",
    "# Create the ticks for our bar chart's x axis\n",
    "tick_locations = [value for value in month_names]         \n",
    "plt.xticks(tick_locations, month_names)\n",
    "\n",
    "# Set x and y limits\n",
    "plt.xlim(-0.75, len(month_names)-0.25)\n",
    "plt.ylim(0, max(month_count)+15)\n",
    "\n",
    "# Give our chart some labels and a title\n",
    "plt.title(\"Number of Top Songs Released Months\")\n",
    "plt.xlabel(\"Released Months\")\n",
    "plt.ylabel(\"Number of Songs\")\n",
    "\n",
    "# Save the chart\n",
    "# plt.savefig(\"../output/Top_Songs_Released_Months\")\n",
    "\n",
    "# Display\n",
    "plt.show()"
   ]
  },
  {
   "cell_type": "code",
   "execution_count": null,
   "id": "c0b08dc7",
   "metadata": {},
   "outputs": [],
   "source": []
  }
 ],
 "metadata": {
  "kernelspec": {
   "display_name": "Python 3 (ipykernel)",
   "language": "python",
   "name": "python3"
  },
  "language_info": {
   "codemirror_mode": {
    "name": "ipython",
    "version": 3
   },
   "file_extension": ".py",
   "mimetype": "text/x-python",
   "name": "python",
   "nbconvert_exporter": "python",
   "pygments_lexer": "ipython3",
   "version": "3.11.4"
  }
 },
 "nbformat": 4,
 "nbformat_minor": 5
}
